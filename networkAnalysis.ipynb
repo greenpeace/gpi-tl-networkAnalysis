{
 "cells": [
  {
   "cell_type": "markdown",
   "metadata": {},
   "source": [
    "# A proof-of-concept for twitter follower network analysis"
   ]
  },
  {
   "cell_type": "code",
   "execution_count": 52,
   "metadata": {},
   "outputs": [
    {
     "data": {
      "text/html": [
       "<script>requirejs.config({paths: { 'plotly': ['https://cdn.plot.ly/plotly-latest.min']},});if(!window.Plotly) {{require(['plotly'],function(plotly) {window.Plotly=plotly;});}}</script>"
      ],
      "text/vnd.plotly.v1+html": [
       "<script>requirejs.config({paths: { 'plotly': ['https://cdn.plot.ly/plotly-latest.min']},});if(!window.Plotly) {{require(['plotly'],function(plotly) {window.Plotly=plotly;});}}</script>"
      ]
     },
     "metadata": {},
     "output_type": "display_data"
    }
   ],
   "source": [
    "# data handling, io\n",
    "import json\n",
    "import pandas as pd\n",
    "import feedparser as fp\n",
    "\n",
    "# plotting\n",
    "import plotly.graph_objs as go\n",
    "\n",
    "# from imports\n",
    "from plotly.offline import download_plotlyjs, init_notebook_mode, plot, iplot  # for offline use\n",
    "# from pandas.io import gbq\n",
    "from typing import Union\n",
    "\n",
    "# run plotly offline and initialize notebook plotting\n",
    "init_notebook_mode(connected=True)"
   ]
  },
  {
   "cell_type": "code",
   "execution_count": 18,
   "metadata": {},
   "outputs": [],
   "source": [
    "# load feed url \n",
    "with open(\"feed.json\", \"r\") as j:\n",
    "    feedURL = json.load(j)['feed']\n",
    "    \n",
    "# set up parser\n",
    "feed = fp.parse(feedURL)"
   ]
  },
  {
   "cell_type": "code",
   "execution_count": 38,
   "metadata": {},
   "outputs": [],
   "source": [
    "# load historic data\n",
    "data = pd.read_csv('tw_export.csv', sep='\\t')"
   ]
  },
  {
   "cell_type": "code",
   "execution_count": 85,
   "metadata": {},
   "outputs": [],
   "source": [
    "metas = {\"@\": set(),  # mentions\n",
    "         \"#\": set()}  # hashtags\n",
    " \n",
    "def findMeta(s: str, meta: Union[str, list] = [\"@\", \"#\"]) -> dict:\n",
    "    meta = [meta] if isinstance(meta, str) else meta\n",
    "    return {k: {w for w in s.split(\" \") if w.startswith(k)} for k in meta}\n",
    "\n",
    "for l in data.content:\n",
    "    for meta, tags in findMeta(l).items():\n",
    "        metas[meta].update(tags)"
   ]
  },
  {
   "cell_type": "code",
   "execution_count": 87,
   "metadata": {},
   "outputs": [
    {
     "data": {
      "text/plain": [
       "4516"
      ]
     },
     "execution_count": 87,
     "metadata": {},
     "output_type": "execute_result"
    }
   ],
   "source": [
    "len(data.content)"
   ]
  },
  {
   "cell_type": "code",
   "execution_count": null,
   "metadata": {},
   "outputs": [],
   "source": []
  }
 ],
 "metadata": {
  "kernelspec": {
   "display_name": "Python 3",
   "language": "python",
   "name": "python3"
  },
  "language_info": {
   "codemirror_mode": {
    "name": "ipython",
    "version": 3
   },
   "file_extension": ".py",
   "mimetype": "text/x-python",
   "name": "python",
   "nbconvert_exporter": "python",
   "pygments_lexer": "ipython3",
   "version": "3.7.2"
  }
 },
 "nbformat": 4,
 "nbformat_minor": 2
}
